{
 "cells": [
  {
   "cell_type": "code",
   "execution_count": 1,
   "metadata": {},
   "outputs": [
    {
     "name": "stderr",
     "output_type": "stream",
     "text": [
      "C:\\Users\\Topper\\opencv\\lib\\site-packages\\h5py\\__init__.py:36: FutureWarning: Conversion of the second argument of issubdtype from `float` to `np.floating` is deprecated. In future, it will be treated as `np.float64 == np.dtype(float).type`.\n",
      "  from ._conv import register_converters as _register_converters\n",
      "Using TensorFlow backend.\n"
     ]
    }
   ],
   "source": [
    "from keras.preprocessing.image import ImageDataGenerator\n",
    "from keras.models import Sequential\n",
    "from keras.layers import Conv2D, MaxPooling2D\n",
    "from keras.layers import Activation, Dropout, Flatten, Dense\n",
    "from keras import backend as K\n"
   ]
  },
  {
   "cell_type": "code",
   "execution_count": 2,
   "metadata": {},
   "outputs": [],
   "source": [
    "img_width, img_height = 320, 240"
   ]
  },
  {
   "cell_type": "code",
   "execution_count": 3,
   "metadata": {},
   "outputs": [],
   "source": [
    "train_dir = 'Training_set'\n",
    "validation_dir = 'Test_set'"
   ]
  },
  {
   "cell_type": "code",
   "execution_count": 5,
   "metadata": {},
   "outputs": [],
   "source": [
    "if K.image_data_format() == 'channels_first':\n",
    "    input_shape = (3, img_width, img_height)\n",
    "else:\n",
    "    input_shape = (img_width, img_height, 3)\n"
   ]
  },
  {
   "cell_type": "code",
   "execution_count": 7,
   "metadata": {},
   "outputs": [],
   "source": [
    "model = Sequential()\n",
    "model.add(Conv2D(32, (3, 3), input_shape=input_shape))\n",
    "model.add(Activation('relu'))\n",
    "model.add(MaxPooling2D(pool_size=(2, 2)))\n",
    "\n",
    "model.add(Conv2D(32, (3, 3)))\n",
    "model.add(Activation('relu'))\n",
    "model.add(MaxPooling2D(pool_size=(2, 2)))\n",
    "\n",
    "model.add(Conv2D(64, (3, 3)))\n",
    "model.add(Activation('relu'))\n",
    "model.add(MaxPooling2D(pool_size=(2, 2)))\n",
    "\n",
    "model.add(Flatten())\n",
    "model.add(Dense(64))\n",
    "model.add(Activation('relu'))\n",
    "model.add(Dropout(0.5))\n",
    "model.add(Dense(5))\n",
    "model.add(Activation('sigmoid'))\n"
   ]
  },
  {
   "cell_type": "code",
   "execution_count": 8,
   "metadata": {},
   "outputs": [],
   "source": [
    "model.compile(loss='categorical_crossentropy',\n",
    "              optimizer='rmsprop',\n",
    "              metrics=['accuracy'])"
   ]
  },
  {
   "cell_type": "code",
   "execution_count": 9,
   "metadata": {},
   "outputs": [
    {
     "name": "stdout",
     "output_type": "stream",
     "text": [
      "Found 115 images belonging to 5 classes.\n",
      "Found 5 images belonging to 5 classes.\n"
     ]
    }
   ],
   "source": [
    "epochs = 30\n",
    "batch_size = 10\n",
    "train_datagen = ImageDataGenerator(\n",
    "    rescale=1. / 255,\n",
    "    shear_range=0.2,\n",
    "    zoom_range=0.2,\n",
    "    horizontal_flip=True)\n",
    "\n",
    "# this is the augmentation configuration we will use for testing:\n",
    "# only rescaling\n",
    "test_datagen = ImageDataGenerator(rescale=1. / 255)\n",
    "\n",
    "train_generator = train_datagen.flow_from_directory(\n",
    "    train_dir,\n",
    "    target_size=(img_width, img_height),\n",
    "    batch_size=batch_size,\n",
    "    class_mode='categorical')\n",
    "\n",
    "validation_generator = test_datagen.flow_from_directory(\n",
    "    validation_dir,\n",
    "    target_size=(img_width, img_height),\n",
    "    batch_size=batch_size,\n",
    "    class_mode='categorical')\n"
   ]
  },
  {
   "cell_type": "code",
   "execution_count": 10,
   "metadata": {},
   "outputs": [
    {
     "name": "stdout",
     "output_type": "stream",
     "text": [
      "Epoch 1/30\n",
      " 2/45 [>.............................] - ETA: 4:07 - loss: 2.2083 - acc: 0.1000"
     ]
    },
    {
     "name": "stderr",
     "output_type": "stream",
     "text": [
      "C:\\Users\\Topper\\opencv\\lib\\site-packages\\PIL\\Image.py:918: UserWarning: Palette images with Transparency   expressed in bytes should be converted to RGBA images\n",
      "  'to RGBA images')\n"
     ]
    },
    {
     "name": "stdout",
     "output_type": "stream",
     "text": [
      "45/45 [==============================] - 139s 3s/step - loss: 1.6365 - acc: 0.1978 - val_loss: 1.6305 - val_acc: 0.2000\n",
      "Epoch 2/30\n",
      "45/45 [==============================] - 139s 3s/step - loss: 1.5514 - acc: 0.3021 - val_loss: 1.6704 - val_acc: 0.2000\n",
      "Epoch 3/30\n",
      "45/45 [==============================] - 137s 3s/step - loss: 1.4128 - acc: 0.4043 - val_loss: 1.6881 - val_acc: 0.4000\n",
      "Epoch 4/30\n",
      "45/45 [==============================] - 132s 3s/step - loss: 1.3081 - acc: 0.4689 - val_loss: 2.5933 - val_acc: 0.4000\n",
      "Epoch 5/30\n",
      "45/45 [==============================] - 130s 3s/step - loss: 1.1552 - acc: 0.5622 - val_loss: 1.6502 - val_acc: 0.4000\n",
      "Epoch 6/30\n",
      "45/45 [==============================] - 131s 3s/step - loss: 1.0088 - acc: 0.6156 - val_loss: 1.7817 - val_acc: 0.8000\n",
      "Epoch 7/30\n",
      "45/45 [==============================] - 132s 3s/step - loss: 0.8576 - acc: 0.6801 - val_loss: 1.7623 - val_acc: 0.4000\n",
      "Epoch 8/30\n",
      "45/45 [==============================] - 130s 3s/step - loss: 0.7375 - acc: 0.7554 - val_loss: 2.9265 - val_acc: 0.8000\n",
      "Epoch 9/30\n",
      "45/45 [==============================] - 133s 3s/step - loss: 0.6309 - acc: 0.7888 - val_loss: 2.0500 - val_acc: 0.8000\n",
      "Epoch 10/30\n",
      "45/45 [==============================] - 143s 3s/step - loss: 0.6812 - acc: 0.7733 - val_loss: 1.4507 - val_acc: 0.8000\n",
      "Epoch 11/30\n",
      "45/45 [==============================] - 133s 3s/step - loss: 0.5453 - acc: 0.8200 - val_loss: 1.9208 - val_acc: 0.8000\n",
      "Epoch 12/30\n",
      "45/45 [==============================] - 131s 3s/step - loss: 0.3942 - acc: 0.8755 - val_loss: 1.4334 - val_acc: 0.8000\n",
      "Epoch 13/30\n",
      "45/45 [==============================] - 132s 3s/step - loss: 0.3853 - acc: 0.8733 - val_loss: 2.5475 - val_acc: 0.8000\n",
      "Epoch 14/30\n",
      "45/45 [==============================] - 148s 3s/step - loss: 0.3658 - acc: 0.8911 - val_loss: 1.9538 - val_acc: 0.8000\n",
      "Epoch 15/30\n",
      "45/45 [==============================] - 131s 3s/step - loss: 0.3882 - acc: 0.8911 - val_loss: 3.1186 - val_acc: 0.8000\n",
      "Epoch 16/30\n",
      "45/45 [==============================] - 144s 3s/step - loss: 0.3274 - acc: 0.9044 - val_loss: 2.9732 - val_acc: 0.8000\n",
      "Epoch 17/30\n",
      "45/45 [==============================] - 143s 3s/step - loss: 0.4008 - acc: 0.8933 - val_loss: 2.3452 - val_acc: 0.8000\n",
      "Epoch 18/30\n",
      "45/45 [==============================] - 143s 3s/step - loss: 0.2679 - acc: 0.9200 - val_loss: 2.3764 - val_acc: 0.8000\n",
      "Epoch 19/30\n",
      "45/45 [==============================] - 133s 3s/step - loss: 0.2778 - acc: 0.9245 - val_loss: 1.9385 - val_acc: 0.8000\n",
      "Epoch 20/30\n",
      "45/45 [==============================] - 137s 3s/step - loss: 0.2668 - acc: 0.9401 - val_loss: 3.2245 - val_acc: 0.8000\n",
      "Epoch 21/30\n",
      "45/45 [==============================] - 139s 3s/step - loss: 0.2454 - acc: 0.9289 - val_loss: 1.5873 - val_acc: 0.8000\n",
      "Epoch 22/30\n",
      "45/45 [==============================] - 132s 3s/step - loss: 0.2711 - acc: 0.9311 - val_loss: 0.6648 - val_acc: 0.8000\n",
      "Epoch 23/30\n",
      "45/45 [==============================] - 133s 3s/step - loss: 0.2460 - acc: 0.9289 - val_loss: 1.8910 - val_acc: 0.8000\n",
      "Epoch 24/30\n",
      "45/45 [==============================] - 84s 2s/step - loss: 0.1547 - acc: 0.9555 - val_loss: 3.2236 - val_acc: 0.8000\n",
      "Epoch 25/30\n",
      "45/45 [==============================] - 76s 2s/step - loss: 0.2091 - acc: 0.9533 - val_loss: 2.4401 - val_acc: 0.8000\n",
      "Epoch 26/30\n",
      "45/45 [==============================] - 76s 2s/step - loss: 0.2097 - acc: 0.9555 - val_loss: 3.2236 - val_acc: 0.8000\n",
      "Epoch 27/30\n",
      "45/45 [==============================] - 77s 2s/step - loss: 0.1653 - acc: 0.9577 - val_loss: 3.2236 - val_acc: 0.8000\n",
      "Epoch 28/30\n",
      "45/45 [==============================] - 77s 2s/step - loss: 0.1498 - acc: 0.9533 - val_loss: 1.5048 - val_acc: 0.8000\n",
      "Epoch 29/30\n",
      "45/45 [==============================] - 77s 2s/step - loss: 0.1742 - acc: 0.9511 - val_loss: 3.0570 - val_acc: 0.8000\n",
      "Epoch 30/30\n",
      "45/45 [==============================] - 79s 2s/step - loss: 0.2478 - acc: 0.9467 - val_loss: 3.2082 - val_acc: 0.8000\n"
     ]
    },
    {
     "data": {
      "text/plain": [
       "<keras.callbacks.History at 0x2aa63189d30>"
      ]
     },
     "execution_count": 10,
     "metadata": {},
     "output_type": "execute_result"
    }
   ],
   "source": [
    "\n",
    "nb_train_samples = 454  #total\n",
    "nb_validation_samples = 19\n",
    "# Train the model\n",
    "model.fit_generator(\n",
    "    train_generator,\n",
    "    steps_per_epoch=nb_train_samples // batch_size,\n",
    "    epochs=epochs,\n",
    "    validation_data=validation_generator,\n",
    "    validation_steps=5)\n"
   ]
  },
  {
   "cell_type": "code",
   "execution_count": 11,
   "metadata": {},
   "outputs": [],
   "source": [
    "model.save('model1.h5')"
   ]
  },
  {
   "cell_type": "code",
   "execution_count": 12,
   "metadata": {},
   "outputs": [
    {
     "name": "stdout",
     "output_type": "stream",
     "text": [
      "{'COUPE': 0, 'HATCHBACK': 1, 'MPV': 2, 'SEDAN': 3, 'SUV': 4}\n"
     ]
    }
   ],
   "source": [
    "print (train_generator.class_indices)"
   ]
  },
  {
   "cell_type": "code",
   "execution_count": null,
   "metadata": {},
   "outputs": [],
   "source": []
  }
 ],
 "metadata": {
  "kernelspec": {
   "display_name": "Python 3",
   "language": "python",
   "name": "python3"
  },
  "language_info": {
   "codemirror_mode": {
    "name": "ipython",
    "version": 3
   },
   "file_extension": ".py",
   "mimetype": "text/x-python",
   "name": "python",
   "nbconvert_exporter": "python",
   "pygments_lexer": "ipython3",
   "version": "3.6.5"
  }
 },
 "nbformat": 4,
 "nbformat_minor": 2
}
